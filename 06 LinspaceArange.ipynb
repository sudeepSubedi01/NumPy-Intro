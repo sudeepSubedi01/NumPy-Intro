{
 "cells": [
  {
   "cell_type": "code",
   "execution_count": 12,
   "metadata": {},
   "outputs": [],
   "source": [
    "import numpy as np"
   ]
  },
  {
   "cell_type": "code",
   "execution_count": 13,
   "metadata": {},
   "outputs": [
    {
     "name": "stdout",
     "output_type": "stream",
     "text": [
      "[ 2.   6.5 11.  15.5 20. ]\n",
      "4.5\n"
     ]
    }
   ],
   "source": [
    "# linspace is a function in Numpy Library\n",
    "array1 = np.linspace(2,20,5,endpoint=True, retstep=True)\n",
    "data,step = array1\n",
    "print(data)\n",
    "print(step)"
   ]
  },
  {
   "cell_type": "code",
   "execution_count": 16,
   "metadata": {},
   "outputs": [
    {
     "name": "stdout",
     "output_type": "stream",
     "text": [
      "[0 1 2 3 4 5 6 7 8 9]\n",
      "[ 5  7  9 11 13]\n"
     ]
    }
   ],
   "source": [
    "# arange is a function in Numpy Library\n",
    "arr = np.arange(10) # start = 0 default, end=10,step = 1 default\n",
    "print(arr)\n",
    "arr1 = np.arange(5,15,2)\n",
    "print(arr1)\n"
   ]
  },
  {
   "cell_type": "code",
   "execution_count": null,
   "metadata": {},
   "outputs": [],
   "source": []
  }
 ],
 "metadata": {
  "kernelspec": {
   "display_name": "Python 3",
   "language": "python",
   "name": "python3"
  },
  "language_info": {
   "codemirror_mode": {
    "name": "ipython",
    "version": 3
   },
   "file_extension": ".py",
   "mimetype": "text/x-python",
   "name": "python",
   "nbconvert_exporter": "python",
   "pygments_lexer": "ipython3",
   "version": "3.12.2"
  }
 },
 "nbformat": 4,
 "nbformat_minor": 2
}
